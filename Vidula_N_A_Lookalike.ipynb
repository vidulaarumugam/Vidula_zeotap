{
  "nbformat": 4,
  "nbformat_minor": 0,
  "metadata": {
    "colab": {
      "provenance": [],
      "authorship_tag": "ABX9TyNU3bGazYJ6uQzH4NkcKatp",
      "include_colab_link": true
    },
    "kernelspec": {
      "name": "python3",
      "display_name": "Python 3"
    },
    "language_info": {
      "name": "python"
    }
  },
  "cells": [
    {
      "cell_type": "markdown",
      "metadata": {
        "id": "view-in-github",
        "colab_type": "text"
      },
      "source": [
        "<a href=\"https://colab.research.google.com/github/vidulaarumugam/Vidula_zeotap/blob/master/Vidula_N_A_Lookalike.ipynb\" target=\"_parent\"><img src=\"https://colab.research.google.com/assets/colab-badge.svg\" alt=\"Open In Colab\"/></a>"
      ]
    },
    {
      "cell_type": "code",
      "execution_count": 10,
      "metadata": {
        "id": "lpIe0mezWEJl"
      },
      "outputs": [],
      "source": [
        "import pandas as pd\n",
        "import numpy as np\n",
        "from sklearn.metrics.pairwise import cosine_similarity\n",
        "from sklearn.preprocessing import StandardScaler\n",
        "\n",
        "\n",
        "customers_df = pd.read_csv('Customers.csv')\n",
        "products_df = pd.read_csv('Products.csv')\n",
        "transactions_df = pd.read_csv('Transactions.csv')\n",
        "\n",
        "# Convert 'SignupDate' and 'TransactionDate' to datetime\n",
        "customers_df['SignupDate'] = pd.to_datetime(customers_df['SignupDate'])\n",
        "transactions_df['TransactionDate'] = pd.to_datetime(transactions_df['TransactionDate'])\n",
        "\n",
        "\n",
        "customers_features = customers_df[['CustomerID', 'Region', 'SignupDate']]\n",
        "\n",
        "\n",
        "transaction_data = transactions_df.groupby('CustomerID').agg(\n",
        "    total_spend=('TotalValue', 'sum'),\n",
        "    transaction_count=('TransactionID', 'count'),\n",
        "    average_spend=('TotalValue', 'mean')\n",
        ").reset_index()\n",
        "\n",
        "# Merge customer profile and transaction data\n",
        "customer_data = pd.merge(customers_features, transaction_data, on='CustomerID')\n",
        "\n",
        "\n",
        "customer_data['days_since_signup'] = (pd.to_datetime('today') - customer_data['SignupDate']).dt.days\n",
        "\n",
        "# One-hot encode the 'Region'\n",
        "customer_data = pd.get_dummies(customer_data, columns=['Region'], drop_first=True)\n",
        "\n",
        "# Now select only the relevant features\n",
        "features_to_scale = ['days_since_signup', 'total_spend', 'transaction_count', 'average_spend']\n",
        "\n",
        "# Scaling the selected features for similarity comparison\n",
        "scaler = StandardScaler()\n",
        "scaled_data = scaler.fit_transform(customer_data[features_to_scale])\n",
        "\n",
        "# Create a DataFrame with the scaled data\n",
        "scaled_customer_data = pd.DataFrame(scaled_data, columns=features_to_scale)\n",
        "scaled_customer_data['CustomerID'] = customer_data['CustomerID']\n",
        "\n",
        "# Merge the scaled data with the original one-hot encoded customer data\n",
        "scaled_customer_data = pd.merge(scaled_customer_data, customer_data.drop(columns=['SignupDate', 'total_spend', 'transaction_count', 'average_spend']), on='CustomerID')\n"
      ]
    },
    {
      "cell_type": "code",
      "source": [
        "\n",
        "similarity_matrix = cosine_similarity(scaled_customer_data.drop(columns=['CustomerID']))\n",
        "\n",
        "\n",
        "similarity_df = pd.DataFrame(similarity_matrix, index=scaled_customer_data['CustomerID'], columns=scaled_customer_data['CustomerID'])\n"
      ],
      "metadata": {
        "id": "lt44wsonWHUE"
      },
      "execution_count": 9,
      "outputs": []
    },
    {
      "cell_type": "code",
      "source": [
        "import pandas as pd\n",
        "import numpy as np\n",
        "from sklearn.metrics.pairwise import cosine_similarity\n",
        "from sklearn.preprocessing import StandardScaler\n",
        "\n",
        "\n",
        "\n",
        "\n",
        "lookalike_results = []\n",
        "\n",
        "# Loop through the first 20 customers\n",
        "for customer_id in scaled_customer_data['CustomerID'].iloc[:20]:\n",
        "    # Calculate cosine similarity between the target customer and all other customers\n",
        "    target_customer = scaled_customer_data[scaled_customer_data['CustomerID'] == customer_id].drop(columns=['CustomerID'])\n",
        "    other_customers = scaled_customer_data[scaled_customer_data['CustomerID'] != customer_id].drop(columns=['CustomerID'])\n",
        "\n",
        "    similarity_scores = cosine_similarity(target_customer, other_customers)[0]\n",
        "\n",
        "\n",
        "    top_indices = np.argsort(similarity_scores)[-3:][::-1]\n",
        "    top_customers = scaled_customer_data['CustomerID'].iloc[top_indices]\n",
        "\n",
        "    # Store the customer ID and similarity scores\n",
        "    for i, top_customer in enumerate(top_customers):\n",
        "        lookalike_results.append([customer_id, top_customer, similarity_scores[top_indices[i]]])\n",
        "\n",
        "lookalike_df = pd.DataFrame(lookalike_results, columns=['CustomerID', 'Lookalike_CustomerID', 'Similarity_Score'])\n",
        "\n",
        "print(\"Lookalike Recommendations:\")\n",
        "print(lookalike_df.head(20))\n",
        "\n",
        "# Save the results\n",
        "lookalike_df.to_csv('Lookalike.csv', index=False)\n",
        "\n",
        "\n",
        "\n",
        "\n",
        "print(\"\\nLookalike recommendations have been saved to 'Lookalike.csv'.\")\n"
      ],
      "metadata": {
        "colab": {
          "base_uri": "https://localhost:8080/"
        },
        "id": "963Fu6WeWb7_",
        "outputId": "c80545e0-b20d-42ff-c460-8bbee2a6c962"
      },
      "execution_count": 8,
      "outputs": [
        {
          "output_type": "stream",
          "name": "stdout",
          "text": [
            "Lookalike Recommendations:\n",
            "   CustomerID Lookalike_CustomerID  Similarity_Score\n",
            "0       C0001                C0151          1.000000\n",
            "1       C0001                C0010          1.000000\n",
            "2       C0001                C0117          1.000000\n",
            "3       C0002                C0133          1.000000\n",
            "4       C0002                C0105          1.000000\n",
            "5       C0002                C0026          1.000000\n",
            "6       C0003                C0051          1.000000\n",
            "7       C0003                C0136          0.999998\n",
            "8       C0003                C0190          0.999998\n",
            "9       C0004                C0112          1.000000\n",
            "10      C0004                C0107          1.000000\n",
            "11      C0004                C0101          1.000000\n",
            "12      C0005                C0158          1.000000\n",
            "13      C0005                C0026          1.000000\n",
            "14      C0005                C0006          1.000000\n",
            "15      C0006                C0167          0.999996\n",
            "16      C0006                C0147          0.999996\n",
            "17      C0006                C0095          0.999995\n",
            "18      C0007                C0192          1.000000\n",
            "19      C0007                C0158          1.000000\n",
            "\n",
            "Lookalike recommendations have been saved to 'Lookalike.csv'.\n"
          ]
        }
      ]
    }
  ]
}